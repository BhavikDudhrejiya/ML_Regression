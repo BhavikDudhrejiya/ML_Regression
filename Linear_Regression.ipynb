{
 "cells": [
  {
   "cell_type": "markdown",
   "metadata": {},
   "source": [
    "# Basic Analysis of Data"
   ]
  },
  {
   "cell_type": "code",
   "execution_count": 1,
   "metadata": {},
   "outputs": [],
   "source": [
    "#Importing library\n",
    "import pandas as pd"
   ]
  },
  {
   "cell_type": "code",
   "execution_count": 2,
   "metadata": {},
   "outputs": [],
   "source": [
    "#Loading data\n",
    "data = pd.read_csv('C:\\\\Users\\\\bhavi\\\\OneDrive\\\\Desktop\\\\Data\\\\insurance.csv')"
   ]
  },
  {
   "cell_type": "code",
   "execution_count": 3,
   "metadata": {},
   "outputs": [],
   "source": [
    "#Setting full view of the data\n",
    "pd.set_option('display.max_columns', None)\n",
    "pd.set_option('display.max_rows', None)"
   ]
  },
  {
   "cell_type": "code",
   "execution_count": 4,
   "metadata": {},
   "outputs": [
    {
     "data": {
      "text/plain": [
       "(1338, 7)"
      ]
     },
     "execution_count": 4,
     "metadata": {},
     "output_type": "execute_result"
    }
   ],
   "source": [
    "#Checking shape of the data\n",
    "data.shape"
   ]
  },
  {
   "cell_type": "code",
   "execution_count": 5,
   "metadata": {},
   "outputs": [
    {
     "data": {
      "text/html": [
       "<div>\n",
       "<style scoped>\n",
       "    .dataframe tbody tr th:only-of-type {\n",
       "        vertical-align: middle;\n",
       "    }\n",
       "\n",
       "    .dataframe tbody tr th {\n",
       "        vertical-align: top;\n",
       "    }\n",
       "\n",
       "    .dataframe thead th {\n",
       "        text-align: right;\n",
       "    }\n",
       "</style>\n",
       "<table border=\"1\" class=\"dataframe\">\n",
       "  <thead>\n",
       "    <tr style=\"text-align: right;\">\n",
       "      <th></th>\n",
       "      <th>age</th>\n",
       "      <th>sex</th>\n",
       "      <th>bmi</th>\n",
       "      <th>children</th>\n",
       "      <th>smoker</th>\n",
       "      <th>region</th>\n",
       "      <th>charges</th>\n",
       "    </tr>\n",
       "  </thead>\n",
       "  <tbody>\n",
       "    <tr>\n",
       "      <th>0</th>\n",
       "      <td>19</td>\n",
       "      <td>female</td>\n",
       "      <td>27.900</td>\n",
       "      <td>0</td>\n",
       "      <td>yes</td>\n",
       "      <td>southwest</td>\n",
       "      <td>16884.92400</td>\n",
       "    </tr>\n",
       "    <tr>\n",
       "      <th>1</th>\n",
       "      <td>18</td>\n",
       "      <td>male</td>\n",
       "      <td>33.770</td>\n",
       "      <td>1</td>\n",
       "      <td>no</td>\n",
       "      <td>southeast</td>\n",
       "      <td>1725.55230</td>\n",
       "    </tr>\n",
       "    <tr>\n",
       "      <th>2</th>\n",
       "      <td>28</td>\n",
       "      <td>male</td>\n",
       "      <td>33.000</td>\n",
       "      <td>3</td>\n",
       "      <td>no</td>\n",
       "      <td>southeast</td>\n",
       "      <td>4449.46200</td>\n",
       "    </tr>\n",
       "    <tr>\n",
       "      <th>3</th>\n",
       "      <td>33</td>\n",
       "      <td>male</td>\n",
       "      <td>22.705</td>\n",
       "      <td>0</td>\n",
       "      <td>no</td>\n",
       "      <td>northwest</td>\n",
       "      <td>21984.47061</td>\n",
       "    </tr>\n",
       "    <tr>\n",
       "      <th>4</th>\n",
       "      <td>32</td>\n",
       "      <td>male</td>\n",
       "      <td>28.880</td>\n",
       "      <td>0</td>\n",
       "      <td>no</td>\n",
       "      <td>northwest</td>\n",
       "      <td>3866.85520</td>\n",
       "    </tr>\n",
       "  </tbody>\n",
       "</table>\n",
       "</div>"
      ],
      "text/plain": [
       "   age     sex     bmi  children smoker     region      charges\n",
       "0   19  female  27.900         0    yes  southwest  16884.92400\n",
       "1   18    male  33.770         1     no  southeast   1725.55230\n",
       "2   28    male  33.000         3     no  southeast   4449.46200\n",
       "3   33    male  22.705         0     no  northwest  21984.47061\n",
       "4   32    male  28.880         0     no  northwest   3866.85520"
      ]
     },
     "execution_count": 5,
     "metadata": {},
     "output_type": "execute_result"
    }
   ],
   "source": [
    "#View the data\n",
    "data.head()"
   ]
  },
  {
   "cell_type": "code",
   "execution_count": 6,
   "metadata": {},
   "outputs": [
    {
     "data": {
      "text/html": [
       "<div>\n",
       "<style scoped>\n",
       "    .dataframe tbody tr th:only-of-type {\n",
       "        vertical-align: middle;\n",
       "    }\n",
       "\n",
       "    .dataframe tbody tr th {\n",
       "        vertical-align: top;\n",
       "    }\n",
       "\n",
       "    .dataframe thead th {\n",
       "        text-align: right;\n",
       "    }\n",
       "</style>\n",
       "<table border=\"1\" class=\"dataframe\">\n",
       "  <thead>\n",
       "    <tr style=\"text-align: right;\">\n",
       "      <th></th>\n",
       "      <th>age</th>\n",
       "      <th>bmi</th>\n",
       "      <th>children</th>\n",
       "      <th>charges</th>\n",
       "    </tr>\n",
       "  </thead>\n",
       "  <tbody>\n",
       "    <tr>\n",
       "      <th>age</th>\n",
       "      <td>1.000000</td>\n",
       "      <td>0.109272</td>\n",
       "      <td>0.042469</td>\n",
       "      <td>0.299008</td>\n",
       "    </tr>\n",
       "    <tr>\n",
       "      <th>bmi</th>\n",
       "      <td>0.109272</td>\n",
       "      <td>1.000000</td>\n",
       "      <td>0.012759</td>\n",
       "      <td>0.198341</td>\n",
       "    </tr>\n",
       "    <tr>\n",
       "      <th>children</th>\n",
       "      <td>0.042469</td>\n",
       "      <td>0.012759</td>\n",
       "      <td>1.000000</td>\n",
       "      <td>0.067998</td>\n",
       "    </tr>\n",
       "    <tr>\n",
       "      <th>charges</th>\n",
       "      <td>0.299008</td>\n",
       "      <td>0.198341</td>\n",
       "      <td>0.067998</td>\n",
       "      <td>1.000000</td>\n",
       "    </tr>\n",
       "  </tbody>\n",
       "</table>\n",
       "</div>"
      ],
      "text/plain": [
       "               age       bmi  children   charges\n",
       "age       1.000000  0.109272  0.042469  0.299008\n",
       "bmi       0.109272  1.000000  0.012759  0.198341\n",
       "children  0.042469  0.012759  1.000000  0.067998\n",
       "charges   0.299008  0.198341  0.067998  1.000000"
      ]
     },
     "execution_count": 6,
     "metadata": {},
     "output_type": "execute_result"
    }
   ],
   "source": [
    "#Checking correlation\n",
    "data.corr()"
   ]
  },
  {
   "cell_type": "markdown",
   "metadata": {},
   "source": [
    "# Checking NA "
   ]
  },
  {
   "cell_type": "code",
   "execution_count": 7,
   "metadata": {},
   "outputs": [
    {
     "data": {
      "text/plain": [
       "age         0\n",
       "sex         0\n",
       "bmi         0\n",
       "children    0\n",
       "smoker      0\n",
       "region      0\n",
       "charges     0\n",
       "dtype: int64"
      ]
     },
     "execution_count": 7,
     "metadata": {},
     "output_type": "execute_result"
    }
   ],
   "source": [
    "#Checking missing values\n",
    "data.isnull().sum()"
   ]
  },
  {
   "cell_type": "markdown",
   "metadata": {},
   "source": [
    "# Creating dummy variables"
   ]
  },
  {
   "cell_type": "code",
   "execution_count": 8,
   "metadata": {},
   "outputs": [],
   "source": [
    "#Creating dummy variables\n",
    "data2 = pd.get_dummies(data)"
   ]
  },
  {
   "cell_type": "code",
   "execution_count": 9,
   "metadata": {},
   "outputs": [
    {
     "data": {
      "text/html": [
       "<div>\n",
       "<style scoped>\n",
       "    .dataframe tbody tr th:only-of-type {\n",
       "        vertical-align: middle;\n",
       "    }\n",
       "\n",
       "    .dataframe tbody tr th {\n",
       "        vertical-align: top;\n",
       "    }\n",
       "\n",
       "    .dataframe thead th {\n",
       "        text-align: right;\n",
       "    }\n",
       "</style>\n",
       "<table border=\"1\" class=\"dataframe\">\n",
       "  <thead>\n",
       "    <tr style=\"text-align: right;\">\n",
       "      <th></th>\n",
       "      <th>age</th>\n",
       "      <th>bmi</th>\n",
       "      <th>children</th>\n",
       "      <th>charges</th>\n",
       "      <th>sex_female</th>\n",
       "      <th>sex_male</th>\n",
       "      <th>smoker_no</th>\n",
       "      <th>smoker_yes</th>\n",
       "      <th>region_northeast</th>\n",
       "      <th>region_northwest</th>\n",
       "      <th>region_southeast</th>\n",
       "      <th>region_southwest</th>\n",
       "    </tr>\n",
       "  </thead>\n",
       "  <tbody>\n",
       "    <tr>\n",
       "      <th>0</th>\n",
       "      <td>19</td>\n",
       "      <td>27.900</td>\n",
       "      <td>0</td>\n",
       "      <td>16884.92400</td>\n",
       "      <td>1</td>\n",
       "      <td>0</td>\n",
       "      <td>0</td>\n",
       "      <td>1</td>\n",
       "      <td>0</td>\n",
       "      <td>0</td>\n",
       "      <td>0</td>\n",
       "      <td>1</td>\n",
       "    </tr>\n",
       "    <tr>\n",
       "      <th>1</th>\n",
       "      <td>18</td>\n",
       "      <td>33.770</td>\n",
       "      <td>1</td>\n",
       "      <td>1725.55230</td>\n",
       "      <td>0</td>\n",
       "      <td>1</td>\n",
       "      <td>1</td>\n",
       "      <td>0</td>\n",
       "      <td>0</td>\n",
       "      <td>0</td>\n",
       "      <td>1</td>\n",
       "      <td>0</td>\n",
       "    </tr>\n",
       "    <tr>\n",
       "      <th>2</th>\n",
       "      <td>28</td>\n",
       "      <td>33.000</td>\n",
       "      <td>3</td>\n",
       "      <td>4449.46200</td>\n",
       "      <td>0</td>\n",
       "      <td>1</td>\n",
       "      <td>1</td>\n",
       "      <td>0</td>\n",
       "      <td>0</td>\n",
       "      <td>0</td>\n",
       "      <td>1</td>\n",
       "      <td>0</td>\n",
       "    </tr>\n",
       "    <tr>\n",
       "      <th>3</th>\n",
       "      <td>33</td>\n",
       "      <td>22.705</td>\n",
       "      <td>0</td>\n",
       "      <td>21984.47061</td>\n",
       "      <td>0</td>\n",
       "      <td>1</td>\n",
       "      <td>1</td>\n",
       "      <td>0</td>\n",
       "      <td>0</td>\n",
       "      <td>1</td>\n",
       "      <td>0</td>\n",
       "      <td>0</td>\n",
       "    </tr>\n",
       "    <tr>\n",
       "      <th>4</th>\n",
       "      <td>32</td>\n",
       "      <td>28.880</td>\n",
       "      <td>0</td>\n",
       "      <td>3866.85520</td>\n",
       "      <td>0</td>\n",
       "      <td>1</td>\n",
       "      <td>1</td>\n",
       "      <td>0</td>\n",
       "      <td>0</td>\n",
       "      <td>1</td>\n",
       "      <td>0</td>\n",
       "      <td>0</td>\n",
       "    </tr>\n",
       "  </tbody>\n",
       "</table>\n",
       "</div>"
      ],
      "text/plain": [
       "   age     bmi  children      charges  sex_female  sex_male  smoker_no  \\\n",
       "0   19  27.900         0  16884.92400           1         0          0   \n",
       "1   18  33.770         1   1725.55230           0         1          1   \n",
       "2   28  33.000         3   4449.46200           0         1          1   \n",
       "3   33  22.705         0  21984.47061           0         1          1   \n",
       "4   32  28.880         0   3866.85520           0         1          1   \n",
       "\n",
       "   smoker_yes  region_northeast  region_northwest  region_southeast  \\\n",
       "0           1                 0                 0                 0   \n",
       "1           0                 0                 0                 1   \n",
       "2           0                 0                 0                 1   \n",
       "3           0                 0                 1                 0   \n",
       "4           0                 0                 1                 0   \n",
       "\n",
       "   region_southwest  \n",
       "0                 1  \n",
       "1                 0  \n",
       "2                 0  \n",
       "3                 0  \n",
       "4                 0  "
      ]
     },
     "execution_count": 9,
     "metadata": {},
     "output_type": "execute_result"
    }
   ],
   "source": [
    "#Checkiing dummy data\n",
    "data2.head()"
   ]
  },
  {
   "cell_type": "markdown",
   "metadata": {},
   "source": [
    "# Splitting data into X & y"
   ]
  },
  {
   "cell_type": "code",
   "execution_count": 10,
   "metadata": {},
   "outputs": [
    {
     "name": "stdout",
     "output_type": "stream",
     "text": [
      "Shape of X: (1338, 11)\n",
      "Shape of y: (1338,)\n"
     ]
    }
   ],
   "source": [
    "#Splitting data into X and y\n",
    "X = data2.drop('charges', axis = 1)\n",
    "y = data2['charges']\n",
    "\n",
    "print('Shape of X:',X.shape)\n",
    "print('Shape of y:',y.shape)"
   ]
  },
  {
   "cell_type": "markdown",
   "metadata": {},
   "source": [
    "# Splitting into train & test"
   ]
  },
  {
   "cell_type": "code",
   "execution_count": 11,
   "metadata": {},
   "outputs": [],
   "source": [
    "#Importing train and test library\n",
    "from sklearn.model_selection import train_test_split"
   ]
  },
  {
   "cell_type": "code",
   "execution_count": 12,
   "metadata": {},
   "outputs": [
    {
     "name": "stdout",
     "output_type": "stream",
     "text": [
      "Shape of X_train: (1070, 11)\n",
      "Shape of X_test: (268, 11)\n",
      "Shape of y_train: (1070,)\n",
      "Shape of y_test: (268,)\n"
     ]
    }
   ],
   "source": [
    "#Splitting data into train and test\n",
    "X_train, X_test, y_train, y_test = train_test_split(X,y,test_size = 0.2, random_state = 51)\n",
    "print('Shape of X_train:',X_train.shape)\n",
    "print('Shape of X_test:',X_test.shape)\n",
    "print('Shape of y_train:',y_train.shape)\n",
    "print('Shape of y_test:',y_test.shape)"
   ]
  },
  {
   "cell_type": "markdown",
   "metadata": {},
   "source": [
    "# Standard Scaler of the data"
   ]
  },
  {
   "cell_type": "code",
   "execution_count": 13,
   "metadata": {},
   "outputs": [],
   "source": [
    "#Importing feature scaling library\n",
    "from sklearn.preprocessing import StandardScaler"
   ]
  },
  {
   "cell_type": "code",
   "execution_count": 14,
   "metadata": {},
   "outputs": [],
   "source": [
    "#Feature Scaling\n",
    "\n",
    "#Calling the standard scaler function\n",
    "sc = StandardScaler()\n",
    "\n",
    "#Implement standard function\n",
    "sc.fit(X_train)\n",
    "X_train = sc.transform(X_train)\n",
    "X_test = sc.transform(X_test)"
   ]
  },
  {
   "cell_type": "code",
   "execution_count": 15,
   "metadata": {},
   "outputs": [
    {
     "data": {
      "text/plain": [
       "array([[-0.01679025, -1.10886921,  3.22869711, ..., -0.57663083,\n",
       "         1.62083887, -0.55647958],\n",
       "       [ 1.46855153,  1.53991862, -0.90867523, ..., -0.57663083,\n",
       "        -0.61696447,  1.79701113],\n",
       "       [-0.93628753, -0.5478814 ,  1.57374817, ..., -0.57663083,\n",
       "        -0.61696447, -0.55647958],\n",
       "       ...,\n",
       "       [-0.58263473,  0.08002838, -0.90867523, ..., -0.57663083,\n",
       "        -0.61696447, -0.55647958],\n",
       "       [-1.50213202,  0.18165062,  0.7462737 , ..., -0.57663083,\n",
       "         1.62083887, -0.55647958],\n",
       "       [ 0.54905424,  0.90870405, -0.08120077, ..., -0.57663083,\n",
       "         1.62083887, -0.55647958]])"
      ]
     },
     "execution_count": 15,
     "metadata": {},
     "output_type": "execute_result"
    }
   ],
   "source": [
    "#Viewing X_train data\n",
    "X_train"
   ]
  },
  {
   "cell_type": "markdown",
   "metadata": {},
   "source": [
    "# Linear Regression"
   ]
  },
  {
   "cell_type": "code",
   "execution_count": 16,
   "metadata": {},
   "outputs": [],
   "source": [
    "#Importing linear regression library\n",
    "from sklearn.linear_model import LinearRegression"
   ]
  },
  {
   "cell_type": "code",
   "execution_count": 17,
   "metadata": {},
   "outputs": [
    {
     "data": {
      "text/plain": [
       "LinearRegression()"
      ]
     },
     "execution_count": 17,
     "metadata": {},
     "output_type": "execute_result"
    }
   ],
   "source": [
    "#Calling regression model\n",
    "lr = LinearRegression()\n",
    "\n",
    "#Implementing regression model on X_train & y_train data\n",
    "lr.fit(X_train, y_train)"
   ]
  },
  {
   "cell_type": "markdown",
   "metadata": {},
   "source": [
    "# Checking Slop & Intercept"
   ]
  },
  {
   "cell_type": "code",
   "execution_count": 18,
   "metadata": {},
   "outputs": [
    {
     "data": {
      "text/plain": [
       "array([ 3.46538698e+03,  1.98956617e+03,  6.14837567e+02, -6.19898168e+15,\n",
       "       -6.19898168e+15,  9.28026926e+15,  9.28026926e+15, -8.78024339e+16,\n",
       "       -8.91807383e+16, -9.20914941e+16, -8.75646768e+16])"
      ]
     },
     "execution_count": 18,
     "metadata": {},
     "output_type": "execute_result"
    }
   ],
   "source": [
    "#Checking coefficient\n",
    "lr.coef_"
   ]
  },
  {
   "cell_type": "code",
   "execution_count": 19,
   "metadata": {},
   "outputs": [
    {
     "data": {
      "text/plain": [
       "13139.928199165144"
      ]
     },
     "execution_count": 19,
     "metadata": {},
     "output_type": "execute_result"
    }
   ],
   "source": [
    "#Viewing intercept\n",
    "lr.intercept_"
   ]
  },
  {
   "cell_type": "markdown",
   "metadata": {},
   "source": [
    "# Prediction on the data"
   ]
  },
  {
   "cell_type": "code",
   "execution_count": 20,
   "metadata": {},
   "outputs": [
    {
     "data": {
      "text/plain": [
       "array([ 0.6197848 , -0.14552342, -0.90867523, -0.99813258,  0.99813258,\n",
       "        0.50145986, -0.50145986, -0.55935984, -0.57663083,  1.62083887,\n",
       "       -0.55647958])"
      ]
     },
     "execution_count": 20,
     "metadata": {},
     "output_type": "execute_result"
    }
   ],
   "source": [
    "#Viewing first of the test data\n",
    "X_test[0,:]"
   ]
  },
  {
   "cell_type": "code",
   "execution_count": 21,
   "metadata": {},
   "outputs": [
    {
     "data": {
      "text/plain": [
       "array([[ 0.6197848 , -0.14552342, -0.90867523, ..., -0.57663083,\n",
       "         1.62083887, -0.55647958],\n",
       "       [ 1.46855153,  0.36671877, -0.90867523, ..., -0.57663083,\n",
       "        -0.61696447,  1.79701113],\n",
       "       [-1.07774866, -0.47269746, -0.90867523, ..., -0.57663083,\n",
       "         1.62083887, -0.55647958],\n",
       "       ...,\n",
       "       [-1.43140146, -0.05464174, -0.90867523, ..., -0.57663083,\n",
       "         1.62083887, -0.55647958],\n",
       "       [ 1.61001265,  0.23700583, -0.90867523, ..., -0.57663083,\n",
       "        -0.61696447, -0.55647958],\n",
       "       [ 1.18562929,  0.28409906,  1.57374817, ..., -0.57663083,\n",
       "        -0.61696447, -0.55647958]])"
      ]
     },
     "execution_count": 21,
     "metadata": {},
     "output_type": "execute_result"
    }
   ],
   "source": [
    "X_test"
   ]
  },
  {
   "cell_type": "code",
   "execution_count": 22,
   "metadata": {},
   "outputs": [
    {
     "data": {
      "text/plain": [
       "array([ 8923.92819917, 36787.92819917,  2619.92819917, 11339.92819917,\n",
       "       34091.92819917, 11595.92819917, 11435.92819917, 14915.92819917,\n",
       "        5443.92819917, 10691.92819917,  9523.92819917, 12139.92819917,\n",
       "        9899.92819917,  4107.92819917,  5675.92819917, 12843.92819917,\n",
       "        5555.92819917,  4579.92819917, 25491.92819917, 28947.92819917,\n",
       "       10227.92819917,  8571.92819917, 32707.92819917, 13531.92819917,\n",
       "        6251.92819917, 16267.92819917, 10067.92819917,  2355.92819917,\n",
       "       23627.92819917,  8555.92819917,  3795.92819917, 30587.92819917,\n",
       "        5595.92819917,  4779.92819917,  7939.92819917, 11371.92819917,\n",
       "       13283.92819917,  2291.92819917, 12203.92819917,  7827.92819917,\n",
       "        9779.92819917,   939.92819917,  6091.92819917,  2187.92819917,\n",
       "        4427.92819917, 15243.92819917, 15299.92819917, 34715.92819917,\n",
       "        8523.92819917, 12715.92819917,  5587.92819917, 30611.92819917,\n",
       "        7147.92819917, 40043.92819917,  4651.92819917, 27411.92819917,\n",
       "       11083.92819917, 12139.92819917, 12467.92819917,  8363.92819917,\n",
       "        9067.92819917,  8851.92819917, 31883.92819917,   171.92819917,\n",
       "        8235.92819917, 12843.92819917, 13235.92819917,  4603.92819917,\n",
       "       14995.92819917,  7099.92819917, 34595.92819917, 15563.92819917,\n",
       "        6899.92819917,  3083.92819917, 12755.92819917, 11211.92819917,\n",
       "       24267.92819917, 36467.92819917,  9075.92819917, 10451.92819917,\n",
       "        2387.92819917,  9747.92819917, 10555.92819917,  3347.92819917,\n",
       "        7291.92819917, 39347.92819917,  7059.92819917, 13203.92819917,\n",
       "       14219.92819917,  7563.92819917,  5987.92819917, 10603.92819917,\n",
       "        8779.92819917,  3563.92819917,  8235.92819917, 27387.92819917,\n",
       "       34675.92819917, 13467.92819917, 29155.92819917,  7531.92819917,\n",
       "        2515.92819917,  1707.92819917, 36091.92819917,  9235.92819917,\n",
       "        5619.92819917, 10667.92819917, 10131.92819917,  9603.92819917,\n",
       "       12755.92819917, 31651.92819917,  8179.92819917,  6099.92819917,\n",
       "        4747.92819917,  5491.92819917, 11699.92819917, 12227.92819917,\n",
       "        4755.92819917, 16467.92819917, 17579.92819917, 38283.92819917,\n",
       "       39139.92819917,  9571.92819917, 40235.92819917,  5427.92819917,\n",
       "        1539.92819917, 30267.92819917,  6315.92819917, 26955.92819917,\n",
       "        9619.92819917,  4555.92819917,   755.92819917,  8083.92819917,\n",
       "       -1516.07180083,  8603.92819917,  4339.92819917, 31571.92819917,\n",
       "        6771.92819917,  4883.92819917,  3995.92819917,  6619.92819917,\n",
       "       32955.92819917,   499.92819917, 35483.92819917,  2339.92819917,\n",
       "       11603.92819917, 11859.92819917,  8499.92819917, 32267.92819917,\n",
       "       15355.92819917, 15339.92819917, 31827.92819917, 38691.92819917,\n",
       "       10347.92819917, 11051.92819917, -1324.07180083, 16691.92819917,\n",
       "       35187.92819917, 13323.92819917,  4427.92819917,  1611.92819917,\n",
       "       36523.92819917, 28691.92819917, 30667.92819917,  7395.92819917,\n",
       "       10579.92819917, 11131.92819917, 11435.92819917, 16723.92819917,\n",
       "       29291.92819917,  4179.92819917,  1107.92819917,  7187.92819917,\n",
       "       12403.92819917,  3691.92819917, 31851.92819917, 35979.92819917,\n",
       "        9179.92819917, 33299.92819917, 14483.92819917,  6379.92819917,\n",
       "        5675.92819917, -1036.07180083, 11123.92819917,  6995.92819917,\n",
       "        9267.92819917,  6611.92819917, 17035.92819917,  8715.92819917,\n",
       "        5867.92819917,  7963.92819917, 10315.92819917, 33947.92819917,\n",
       "       10251.92819917, 31979.92819917, 10659.92819917,  5451.92819917,\n",
       "        3803.92819917, 31051.92819917, 10451.92819917, 10259.92819917,\n",
       "        7059.92819917, 29747.92819917, 35051.92819917, 14811.92819917,\n",
       "        7507.92819917,   819.92819917, 16235.92819917, 15499.92819917,\n",
       "        9491.92819917,  -844.07180083,  6475.92819917, 37883.92819917,\n",
       "       13979.92819917, 12723.92819917,  5683.92819917, 29163.92819917,\n",
       "       15147.92819917, 37643.92819917, 31435.92819917,  6795.92819917,\n",
       "       13459.92819917,  7923.92819917, 11851.92819917,  3851.92819917,\n",
       "        5731.92819917,  5979.92819917,  8051.92819917,  3531.92819917,\n",
       "         667.92819917,  5483.92819917,  3147.92819917,  4243.92819917,\n",
       "        6475.92819917,  2147.92819917,  2187.92819917, 17139.92819917,\n",
       "       30979.92819917,  7083.92819917, 10795.92819917, 12723.92819917,\n",
       "        7779.92819917,  8723.92819917,  9507.92819917,  1419.92819917,\n",
       "       10475.92819917, 25771.92819917, 12307.92819917,  6867.92819917,\n",
       "       28107.92819917, 14331.92819917,  1587.92819917,  4627.92819917,\n",
       "        9275.92819917, 14227.92819917, 35691.92819917, 32075.92819917,\n",
       "        9939.92819917, 29051.92819917,  3467.92819917,  8483.92819917,\n",
       "        6411.92819917, 10995.92819917, 38547.92819917, 12587.92819917,\n",
       "       28171.92819917, 25787.92819917, 38219.92819917, 14827.92819917])"
      ]
     },
     "execution_count": 22,
     "metadata": {},
     "output_type": "execute_result"
    }
   ],
   "source": [
    "#Predicting on x test\n",
    "pred = lr.predict(X_test)\n",
    "pred"
   ]
  },
  {
   "cell_type": "markdown",
   "metadata": {},
   "source": [
    "# Checking Accuracy of the model"
   ]
  },
  {
   "cell_type": "code",
   "execution_count": 23,
   "metadata": {},
   "outputs": [
    {
     "data": {
      "text/plain": [
       "0.7481483247434315"
      ]
     },
     "execution_count": 23,
     "metadata": {},
     "output_type": "execute_result"
    }
   ],
   "source": [
    "#Checking score\n",
    "lr.score(X_test, y_test)"
   ]
  },
  {
   "cell_type": "markdown",
   "metadata": {},
   "source": [
    "# Accuracy Evaluation"
   ]
  },
  {
   "cell_type": "code",
   "execution_count": 24,
   "metadata": {},
   "outputs": [],
   "source": [
    "from sklearn.metrics import mean_squared_error\n",
    "import numpy as np"
   ]
  },
  {
   "cell_type": "code",
   "execution_count": 25,
   "metadata": {},
   "outputs": [
    {
     "data": {
      "text/plain": [
       "43792615.92444599"
      ]
     },
     "execution_count": 25,
     "metadata": {},
     "output_type": "execute_result"
    }
   ],
   "source": [
    "#Computing mean square error\n",
    "mse = mean_squared_error(y_test, pred)\n",
    "mse"
   ]
  },
  {
   "cell_type": "code",
   "execution_count": 26,
   "metadata": {},
   "outputs": [
    {
     "data": {
      "text/plain": [
       "6617.598954639514"
      ]
     },
     "execution_count": 26,
     "metadata": {},
     "output_type": "execute_result"
    }
   ],
   "source": [
    "#Computing root mean square error\n",
    "rmse = np.sqrt(mse)\n",
    "rmse"
   ]
  },
  {
   "cell_type": "code",
   "execution_count": 27,
   "metadata": {},
   "outputs": [
    {
     "data": {
      "text/plain": [
       "43792615.924445994"
      ]
     },
     "execution_count": 27,
     "metadata": {},
     "output_type": "execute_result"
    }
   ],
   "source": [
    "#Checking manually\n",
    "mse_manual = (sum((np.array(y_test) - lr.predict(X_test))**2))/len(np.array(y_test))\n",
    "mse_manual"
   ]
  },
  {
   "cell_type": "code",
   "execution_count": 28,
   "metadata": {
    "scrolled": false
   },
   "outputs": [
    {
     "data": {
      "text/plain": [
       "6617.598954639515"
      ]
     },
     "execution_count": 28,
     "metadata": {},
     "output_type": "execute_result"
    }
   ],
   "source": [
    "#Checking manually\n",
    "rmse_manual = np.sqrt((sum((np.array(y_test) - lr.predict(X_test))**2))/len(np.array(y_test)))\n",
    "rmse_manual"
   ]
  },
  {
   "cell_type": "markdown",
   "metadata": {},
   "source": [
    "# R Square"
   ]
  },
  {
   "cell_type": "code",
   "execution_count": 29,
   "metadata": {},
   "outputs": [],
   "source": [
    "from sklearn.metrics import r2_score"
   ]
  },
  {
   "cell_type": "code",
   "execution_count": 30,
   "metadata": {},
   "outputs": [
    {
     "data": {
      "text/plain": [
       "0.7481483247434315"
      ]
     },
     "execution_count": 30,
     "metadata": {},
     "output_type": "execute_result"
    }
   ],
   "source": [
    "r2_score(y_test,pred)"
   ]
  }
 ],
 "metadata": {
  "kernelspec": {
   "display_name": "Python 3",
   "language": "python",
   "name": "python3"
  },
  "language_info": {
   "codemirror_mode": {
    "name": "ipython",
    "version": 3
   },
   "file_extension": ".py",
   "mimetype": "text/x-python",
   "name": "python",
   "nbconvert_exporter": "python",
   "pygments_lexer": "ipython3",
   "version": "3.8.6"
  }
 },
 "nbformat": 4,
 "nbformat_minor": 4
}
