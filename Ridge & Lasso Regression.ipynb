{
 "cells": [
  {
   "cell_type": "markdown",
   "metadata": {},
   "source": [
    "# Basic Analysis of Data"
   ]
  },
  {
   "cell_type": "code",
   "execution_count": 45,
   "metadata": {},
   "outputs": [],
   "source": [
    "#Importing library\n",
    "import pandas as pd\n",
    "import numpy as np"
   ]
  },
  {
   "cell_type": "code",
   "execution_count": 2,
   "metadata": {},
   "outputs": [],
   "source": [
    "#Loading data\n",
    "data = pd.read_csv('C:\\\\Users\\\\bhavi\\\\OneDrive\\\\Desktop\\\\Data\\\\insurance.csv')"
   ]
  },
  {
   "cell_type": "code",
   "execution_count": 3,
   "metadata": {},
   "outputs": [
    {
     "data": {
      "text/plain": [
       "(1338, 7)"
      ]
     },
     "execution_count": 3,
     "metadata": {},
     "output_type": "execute_result"
    }
   ],
   "source": [
    "#Checking shape of the data\n",
    "data.shape"
   ]
  },
  {
   "cell_type": "code",
   "execution_count": 4,
   "metadata": {},
   "outputs": [
    {
     "data": {
      "text/html": [
       "<div>\n",
       "<style scoped>\n",
       "    .dataframe tbody tr th:only-of-type {\n",
       "        vertical-align: middle;\n",
       "    }\n",
       "\n",
       "    .dataframe tbody tr th {\n",
       "        vertical-align: top;\n",
       "    }\n",
       "\n",
       "    .dataframe thead th {\n",
       "        text-align: right;\n",
       "    }\n",
       "</style>\n",
       "<table border=\"1\" class=\"dataframe\">\n",
       "  <thead>\n",
       "    <tr style=\"text-align: right;\">\n",
       "      <th></th>\n",
       "      <th>age</th>\n",
       "      <th>sex</th>\n",
       "      <th>bmi</th>\n",
       "      <th>children</th>\n",
       "      <th>smoker</th>\n",
       "      <th>region</th>\n",
       "      <th>charges</th>\n",
       "    </tr>\n",
       "  </thead>\n",
       "  <tbody>\n",
       "    <tr>\n",
       "      <th>0</th>\n",
       "      <td>19</td>\n",
       "      <td>female</td>\n",
       "      <td>27.900</td>\n",
       "      <td>0</td>\n",
       "      <td>yes</td>\n",
       "      <td>southwest</td>\n",
       "      <td>16884.92400</td>\n",
       "    </tr>\n",
       "    <tr>\n",
       "      <th>1</th>\n",
       "      <td>18</td>\n",
       "      <td>male</td>\n",
       "      <td>33.770</td>\n",
       "      <td>1</td>\n",
       "      <td>no</td>\n",
       "      <td>southeast</td>\n",
       "      <td>1725.55230</td>\n",
       "    </tr>\n",
       "    <tr>\n",
       "      <th>2</th>\n",
       "      <td>28</td>\n",
       "      <td>male</td>\n",
       "      <td>33.000</td>\n",
       "      <td>3</td>\n",
       "      <td>no</td>\n",
       "      <td>southeast</td>\n",
       "      <td>4449.46200</td>\n",
       "    </tr>\n",
       "    <tr>\n",
       "      <th>3</th>\n",
       "      <td>33</td>\n",
       "      <td>male</td>\n",
       "      <td>22.705</td>\n",
       "      <td>0</td>\n",
       "      <td>no</td>\n",
       "      <td>northwest</td>\n",
       "      <td>21984.47061</td>\n",
       "    </tr>\n",
       "    <tr>\n",
       "      <th>4</th>\n",
       "      <td>32</td>\n",
       "      <td>male</td>\n",
       "      <td>28.880</td>\n",
       "      <td>0</td>\n",
       "      <td>no</td>\n",
       "      <td>northwest</td>\n",
       "      <td>3866.85520</td>\n",
       "    </tr>\n",
       "  </tbody>\n",
       "</table>\n",
       "</div>"
      ],
      "text/plain": [
       "   age     sex     bmi  children smoker     region      charges\n",
       "0   19  female  27.900         0    yes  southwest  16884.92400\n",
       "1   18    male  33.770         1     no  southeast   1725.55230\n",
       "2   28    male  33.000         3     no  southeast   4449.46200\n",
       "3   33    male  22.705         0     no  northwest  21984.47061\n",
       "4   32    male  28.880         0     no  northwest   3866.85520"
      ]
     },
     "execution_count": 4,
     "metadata": {},
     "output_type": "execute_result"
    }
   ],
   "source": [
    "#View the data\n",
    "data.head()"
   ]
  },
  {
   "cell_type": "code",
   "execution_count": 5,
   "metadata": {},
   "outputs": [
    {
     "data": {
      "text/html": [
       "<div>\n",
       "<style scoped>\n",
       "    .dataframe tbody tr th:only-of-type {\n",
       "        vertical-align: middle;\n",
       "    }\n",
       "\n",
       "    .dataframe tbody tr th {\n",
       "        vertical-align: top;\n",
       "    }\n",
       "\n",
       "    .dataframe thead th {\n",
       "        text-align: right;\n",
       "    }\n",
       "</style>\n",
       "<table border=\"1\" class=\"dataframe\">\n",
       "  <thead>\n",
       "    <tr style=\"text-align: right;\">\n",
       "      <th></th>\n",
       "      <th>age</th>\n",
       "      <th>bmi</th>\n",
       "      <th>children</th>\n",
       "      <th>charges</th>\n",
       "    </tr>\n",
       "  </thead>\n",
       "  <tbody>\n",
       "    <tr>\n",
       "      <th>age</th>\n",
       "      <td>1.000000</td>\n",
       "      <td>0.109272</td>\n",
       "      <td>0.042469</td>\n",
       "      <td>0.299008</td>\n",
       "    </tr>\n",
       "    <tr>\n",
       "      <th>bmi</th>\n",
       "      <td>0.109272</td>\n",
       "      <td>1.000000</td>\n",
       "      <td>0.012759</td>\n",
       "      <td>0.198341</td>\n",
       "    </tr>\n",
       "    <tr>\n",
       "      <th>children</th>\n",
       "      <td>0.042469</td>\n",
       "      <td>0.012759</td>\n",
       "      <td>1.000000</td>\n",
       "      <td>0.067998</td>\n",
       "    </tr>\n",
       "    <tr>\n",
       "      <th>charges</th>\n",
       "      <td>0.299008</td>\n",
       "      <td>0.198341</td>\n",
       "      <td>0.067998</td>\n",
       "      <td>1.000000</td>\n",
       "    </tr>\n",
       "  </tbody>\n",
       "</table>\n",
       "</div>"
      ],
      "text/plain": [
       "               age       bmi  children   charges\n",
       "age       1.000000  0.109272  0.042469  0.299008\n",
       "bmi       0.109272  1.000000  0.012759  0.198341\n",
       "children  0.042469  0.012759  1.000000  0.067998\n",
       "charges   0.299008  0.198341  0.067998  1.000000"
      ]
     },
     "execution_count": 5,
     "metadata": {},
     "output_type": "execute_result"
    }
   ],
   "source": [
    "#Checking correlation\n",
    "data.corr()"
   ]
  },
  {
   "cell_type": "markdown",
   "metadata": {},
   "source": [
    "# Checking NA "
   ]
  },
  {
   "cell_type": "code",
   "execution_count": 6,
   "metadata": {},
   "outputs": [
    {
     "data": {
      "text/plain": [
       "age         0\n",
       "sex         0\n",
       "bmi         0\n",
       "children    0\n",
       "smoker      0\n",
       "region      0\n",
       "charges     0\n",
       "dtype: int64"
      ]
     },
     "execution_count": 6,
     "metadata": {},
     "output_type": "execute_result"
    }
   ],
   "source": [
    "#Checking missing values\n",
    "data.isnull().sum()"
   ]
  },
  {
   "cell_type": "markdown",
   "metadata": {},
   "source": [
    "# Creating dummy variables"
   ]
  },
  {
   "cell_type": "code",
   "execution_count": 7,
   "metadata": {},
   "outputs": [],
   "source": [
    "#Creating dummy variables\n",
    "data2 = pd.get_dummies(data)"
   ]
  },
  {
   "cell_type": "code",
   "execution_count": 8,
   "metadata": {},
   "outputs": [
    {
     "data": {
      "text/html": [
       "<div>\n",
       "<style scoped>\n",
       "    .dataframe tbody tr th:only-of-type {\n",
       "        vertical-align: middle;\n",
       "    }\n",
       "\n",
       "    .dataframe tbody tr th {\n",
       "        vertical-align: top;\n",
       "    }\n",
       "\n",
       "    .dataframe thead th {\n",
       "        text-align: right;\n",
       "    }\n",
       "</style>\n",
       "<table border=\"1\" class=\"dataframe\">\n",
       "  <thead>\n",
       "    <tr style=\"text-align: right;\">\n",
       "      <th></th>\n",
       "      <th>age</th>\n",
       "      <th>bmi</th>\n",
       "      <th>children</th>\n",
       "      <th>charges</th>\n",
       "      <th>sex_female</th>\n",
       "      <th>sex_male</th>\n",
       "      <th>smoker_no</th>\n",
       "      <th>smoker_yes</th>\n",
       "      <th>region_northeast</th>\n",
       "      <th>region_northwest</th>\n",
       "      <th>region_southeast</th>\n",
       "      <th>region_southwest</th>\n",
       "    </tr>\n",
       "  </thead>\n",
       "  <tbody>\n",
       "    <tr>\n",
       "      <th>0</th>\n",
       "      <td>19</td>\n",
       "      <td>27.900</td>\n",
       "      <td>0</td>\n",
       "      <td>16884.92400</td>\n",
       "      <td>1</td>\n",
       "      <td>0</td>\n",
       "      <td>0</td>\n",
       "      <td>1</td>\n",
       "      <td>0</td>\n",
       "      <td>0</td>\n",
       "      <td>0</td>\n",
       "      <td>1</td>\n",
       "    </tr>\n",
       "    <tr>\n",
       "      <th>1</th>\n",
       "      <td>18</td>\n",
       "      <td>33.770</td>\n",
       "      <td>1</td>\n",
       "      <td>1725.55230</td>\n",
       "      <td>0</td>\n",
       "      <td>1</td>\n",
       "      <td>1</td>\n",
       "      <td>0</td>\n",
       "      <td>0</td>\n",
       "      <td>0</td>\n",
       "      <td>1</td>\n",
       "      <td>0</td>\n",
       "    </tr>\n",
       "    <tr>\n",
       "      <th>2</th>\n",
       "      <td>28</td>\n",
       "      <td>33.000</td>\n",
       "      <td>3</td>\n",
       "      <td>4449.46200</td>\n",
       "      <td>0</td>\n",
       "      <td>1</td>\n",
       "      <td>1</td>\n",
       "      <td>0</td>\n",
       "      <td>0</td>\n",
       "      <td>0</td>\n",
       "      <td>1</td>\n",
       "      <td>0</td>\n",
       "    </tr>\n",
       "    <tr>\n",
       "      <th>3</th>\n",
       "      <td>33</td>\n",
       "      <td>22.705</td>\n",
       "      <td>0</td>\n",
       "      <td>21984.47061</td>\n",
       "      <td>0</td>\n",
       "      <td>1</td>\n",
       "      <td>1</td>\n",
       "      <td>0</td>\n",
       "      <td>0</td>\n",
       "      <td>1</td>\n",
       "      <td>0</td>\n",
       "      <td>0</td>\n",
       "    </tr>\n",
       "    <tr>\n",
       "      <th>4</th>\n",
       "      <td>32</td>\n",
       "      <td>28.880</td>\n",
       "      <td>0</td>\n",
       "      <td>3866.85520</td>\n",
       "      <td>0</td>\n",
       "      <td>1</td>\n",
       "      <td>1</td>\n",
       "      <td>0</td>\n",
       "      <td>0</td>\n",
       "      <td>1</td>\n",
       "      <td>0</td>\n",
       "      <td>0</td>\n",
       "    </tr>\n",
       "  </tbody>\n",
       "</table>\n",
       "</div>"
      ],
      "text/plain": [
       "   age     bmi  children      charges  sex_female  sex_male  smoker_no  \\\n",
       "0   19  27.900         0  16884.92400           1         0          0   \n",
       "1   18  33.770         1   1725.55230           0         1          1   \n",
       "2   28  33.000         3   4449.46200           0         1          1   \n",
       "3   33  22.705         0  21984.47061           0         1          1   \n",
       "4   32  28.880         0   3866.85520           0         1          1   \n",
       "\n",
       "   smoker_yes  region_northeast  region_northwest  region_southeast  \\\n",
       "0           1                 0                 0                 0   \n",
       "1           0                 0                 0                 1   \n",
       "2           0                 0                 0                 1   \n",
       "3           0                 0                 1                 0   \n",
       "4           0                 0                 1                 0   \n",
       "\n",
       "   region_southwest  \n",
       "0                 1  \n",
       "1                 0  \n",
       "2                 0  \n",
       "3                 0  \n",
       "4                 0  "
      ]
     },
     "execution_count": 8,
     "metadata": {},
     "output_type": "execute_result"
    }
   ],
   "source": [
    "#Checkiing dummy data\n",
    "data2.head()"
   ]
  },
  {
   "cell_type": "markdown",
   "metadata": {},
   "source": [
    "# Splitting data into X & y"
   ]
  },
  {
   "cell_type": "code",
   "execution_count": 9,
   "metadata": {},
   "outputs": [
    {
     "name": "stdout",
     "output_type": "stream",
     "text": [
      "Shape of X: (1338, 11)\n",
      "Shape of y: (1338,)\n"
     ]
    }
   ],
   "source": [
    "#Splitting data into X and y\n",
    "X = data2.drop('charges', axis = 1)\n",
    "y = data2['charges']\n",
    "\n",
    "print('Shape of X:',X.shape)\n",
    "print('Shape of y:',y.shape)"
   ]
  },
  {
   "cell_type": "markdown",
   "metadata": {},
   "source": [
    "# Splitting into train & test"
   ]
  },
  {
   "cell_type": "code",
   "execution_count": 10,
   "metadata": {},
   "outputs": [],
   "source": [
    "#Importing train and test library\n",
    "from sklearn.model_selection import train_test_split"
   ]
  },
  {
   "cell_type": "code",
   "execution_count": 11,
   "metadata": {},
   "outputs": [
    {
     "name": "stdout",
     "output_type": "stream",
     "text": [
      "Shape of X_train: (1070, 11)\n",
      "Shape of X_test: (268, 11)\n",
      "Shape of y_train: (1070,)\n",
      "Shape of y_test: (268,)\n"
     ]
    }
   ],
   "source": [
    "#Splitting data into train and test\n",
    "X_train, X_test, y_train, y_test = train_test_split(X,y,test_size = 0.2, random_state = 51)\n",
    "print('Shape of X_train:',X_train.shape)\n",
    "print('Shape of X_test:',X_test.shape)\n",
    "print('Shape of y_train:',y_train.shape)\n",
    "print('Shape of y_test:',y_test.shape)"
   ]
  },
  {
   "cell_type": "markdown",
   "metadata": {},
   "source": [
    "# Standard Scaler of the data"
   ]
  },
  {
   "cell_type": "code",
   "execution_count": 12,
   "metadata": {},
   "outputs": [],
   "source": [
    "#Importing feature scaling library\n",
    "from sklearn.preprocessing import StandardScaler"
   ]
  },
  {
   "cell_type": "code",
   "execution_count": 13,
   "metadata": {},
   "outputs": [],
   "source": [
    "#Feature Scaling\n",
    "\n",
    "#Calling the standard scaler function\n",
    "sc = StandardScaler()\n",
    "\n",
    "#Implement standard function\n",
    "sc.fit(X_train)\n",
    "X_train = sc.transform(X_train)\n",
    "X_test = sc.transform(X_test)"
   ]
  },
  {
   "cell_type": "code",
   "execution_count": 14,
   "metadata": {},
   "outputs": [
    {
     "data": {
      "text/plain": [
       "array([[-0.01679025, -1.10886921,  3.22869711, ..., -0.57663083,\n",
       "         1.62083887, -0.55647958],\n",
       "       [ 1.46855153,  1.53991862, -0.90867523, ..., -0.57663083,\n",
       "        -0.61696447,  1.79701113],\n",
       "       [-0.93628753, -0.5478814 ,  1.57374817, ..., -0.57663083,\n",
       "        -0.61696447, -0.55647958],\n",
       "       ...,\n",
       "       [-0.58263473,  0.08002838, -0.90867523, ..., -0.57663083,\n",
       "        -0.61696447, -0.55647958],\n",
       "       [-1.50213202,  0.18165062,  0.7462737 , ..., -0.57663083,\n",
       "         1.62083887, -0.55647958],\n",
       "       [ 0.54905424,  0.90870405, -0.08120077, ..., -0.57663083,\n",
       "         1.62083887, -0.55647958]])"
      ]
     },
     "execution_count": 14,
     "metadata": {},
     "output_type": "execute_result"
    }
   ],
   "source": [
    "#Viewing X_train data\n",
    "X_train"
   ]
  },
  {
   "cell_type": "markdown",
   "metadata": {},
   "source": [
    "# Ridge Regression"
   ]
  },
  {
   "cell_type": "code",
   "execution_count": 15,
   "metadata": {},
   "outputs": [],
   "source": [
    "#Importing linear regression library\n",
    "from sklearn.linear_model import Ridge, Lasso"
   ]
  },
  {
   "cell_type": "code",
   "execution_count": 16,
   "metadata": {},
   "outputs": [
    {
     "data": {
      "text/plain": [
       "Ridge()"
      ]
     },
     "execution_count": 16,
     "metadata": {},
     "output_type": "execute_result"
    }
   ],
   "source": [
    "#Calling regression model\n",
    "rd = Ridge()\n",
    "\n",
    "#Implementing ridge regression model on X_train & y_train data\n",
    "rd.fit(X_train, y_train)"
   ]
  },
  {
   "cell_type": "markdown",
   "metadata": {},
   "source": [
    "# Checking Slop & Intercept"
   ]
  },
  {
   "cell_type": "code",
   "execution_count": 17,
   "metadata": {},
   "outputs": [
    {
     "data": {
      "text/plain": [
       "array([ 3462.95199616,  1968.33260927,   604.07817204,    49.75745068,\n",
       "         -49.75745068, -4757.77240211,  4757.77240211,   276.45468948,\n",
       "         155.48563363,  -274.7568276 ,  -146.59965506])"
      ]
     },
     "execution_count": 17,
     "metadata": {},
     "output_type": "execute_result"
    }
   ],
   "source": [
    "#Checking coefficient\n",
    "rd.coef_"
   ]
  },
  {
   "cell_type": "code",
   "execution_count": 19,
   "metadata": {},
   "outputs": [
    {
     "data": {
      "text/plain": [
       "13128.763458176636"
      ]
     },
     "execution_count": 19,
     "metadata": {},
     "output_type": "execute_result"
    }
   ],
   "source": [
    "#Viewing intercept\n",
    "rd.intercept_"
   ]
  },
  {
   "cell_type": "markdown",
   "metadata": {},
   "source": [
    "# Prediction on the data"
   ]
  },
  {
   "cell_type": "code",
   "execution_count": 20,
   "metadata": {},
   "outputs": [
    {
     "data": {
      "text/plain": [
       "array([ 0.6197848 , -0.14552342, -0.90867523, -0.99813258,  0.99813258,\n",
       "        0.50145986, -0.50145986, -0.55935984, -0.57663083,  1.62083887,\n",
       "       -0.55647958])"
      ]
     },
     "execution_count": 20,
     "metadata": {},
     "output_type": "execute_result"
    }
   ],
   "source": [
    "#Viewing first of the test data\n",
    "X_test[0,:]"
   ]
  },
  {
   "cell_type": "code",
   "execution_count": 21,
   "metadata": {},
   "outputs": [
    {
     "data": {
      "text/plain": [
       "array([[ 0.6197848 , -0.14552342, -0.90867523, ..., -0.57663083,\n",
       "         1.62083887, -0.55647958],\n",
       "       [ 1.46855153,  0.36671877, -0.90867523, ..., -0.57663083,\n",
       "        -0.61696447,  1.79701113],\n",
       "       [-1.07774866, -0.47269746, -0.90867523, ..., -0.57663083,\n",
       "         1.62083887, -0.55647958],\n",
       "       ...,\n",
       "       [-1.43140146, -0.05464174, -0.90867523, ..., -0.57663083,\n",
       "         1.62083887, -0.55647958],\n",
       "       [ 1.61001265,  0.23700583, -0.90867523, ..., -0.57663083,\n",
       "        -0.61696447, -0.55647958],\n",
       "       [ 1.18562929,  0.28409906,  1.57374817, ..., -0.57663083,\n",
       "        -0.61696447, -0.55647958]])"
      ]
     },
     "execution_count": 21,
     "metadata": {},
     "output_type": "execute_result"
    }
   ],
   "source": [
    "X_test"
   ]
  },
  {
   "cell_type": "code",
   "execution_count": 22,
   "metadata": {},
   "outputs": [
    {
     "data": {
      "text/plain": [
       "array([ 8960.65401056, 36925.33603571,  2637.21995031, 11291.7912347 ,\n",
       "       34028.49647231, 11519.46924538, 11363.99323091, 14788.37286458,\n",
       "        5498.52460069, 10721.99280642,  9679.16353316, 12085.29970801,\n",
       "        9838.06239475,  3997.66212977,  5644.74776479, 12804.21893869,\n",
       "        5440.88401006,  4566.42278548, 25618.36060981, 29077.55597729,\n",
       "       10355.52339291,  8467.05013092, 32543.21937731, 13414.26437738,\n",
       "        6211.04156176, 16124.45665664, 10219.56292415,  2538.76734902,\n",
       "       23587.04520785,  8603.60289119,  3981.22821354, 30444.3799025 ,\n",
       "        5478.53395845,  4754.46214104,  7828.17029354, 11280.30779235,\n",
       "       13239.82226179,  2225.06500376, 12100.21360392,  8057.59488655,\n",
       "        9957.92430324,   941.06691127,  6050.92777883,  2219.74840451,\n",
       "        4330.51045291, 15091.91583444, 15232.2046977 , 34646.34542386,\n",
       "        8492.27515789, 12663.36688372,  5754.2005164 , 30758.11220041,\n",
       "        7079.53094216, 39987.99378723,  4603.53146442, 27565.95491438,\n",
       "       10969.39243695, 12075.22108635, 12628.95032255,  8377.19949063,\n",
       "        9066.82233701,  9027.93381463, 31740.93797089,   236.5201464 ,\n",
       "        8169.4573196 , 12776.18000449, 13416.91117091,  4510.41559976,\n",
       "       14980.3566623 ,  7087.04214574, 34453.80911017, 15523.93964032,\n",
       "        6755.35382407,  3069.25603315, 12745.35359109, 11202.00410281,\n",
       "       24207.68241655, 36410.44339403,  9218.33627583, 10338.34831945,\n",
       "        2612.56954852,  9960.05346617, 10560.32064298,  3558.40824513,\n",
       "        7220.99192321, 39296.50378672,  7238.43472547, 13158.15416682,\n",
       "       14150.89784788,  7439.01035278,  5911.3497632 , 10491.57381189,\n",
       "        8778.69394724,  3518.99018313,  8135.75097312, 27385.45114004,\n",
       "       34780.55697326, 13485.08968127, 29005.79579067,  7474.35829521,\n",
       "        2439.23988228,  1713.52646893, 35909.96906023,  9407.06864271,\n",
       "        5784.72125082, 10577.37304808, 10247.30911897,  9509.44041977,\n",
       "       12913.656325  , 31607.14590149,  8084.03283016,  6333.79039998,\n",
       "        4665.75488983,  5700.52918502, 11909.52636488, 12234.61611596,\n",
       "        4782.96775041, 16600.96086003, 17474.51243542, 38207.88892956,\n",
       "       38934.211269  ,  9438.40311459, 40136.76209931,  5465.49133546,\n",
       "        1483.50382841, 30146.32207963,  6244.47278224, 26912.96367204,\n",
       "        9624.78612621,  4516.2771707 ,   968.42927839,  8233.3491556 ,\n",
       "       -1283.87661236,  8614.59349254,  4342.49377205, 31567.62060792,\n",
       "        6780.98092506,  5074.72132294,  3980.94407965,  6614.52540141,\n",
       "       32910.62511414,   700.12477785, 35415.91233179,  2348.24418201,\n",
       "       11733.48832543, 11760.33139854,  8718.1065383 , 32197.23547861,\n",
       "       15359.26268321, 15226.00870307, 31960.25646062, 38622.94661713,\n",
       "       10340.32761121, 10989.60327151, -1092.61140731, 16787.53086236,\n",
       "       35147.23982865, 13238.5260444 ,  4328.54224703,  1662.10013306,\n",
       "       36468.06000452, 28843.87205101, 30612.41589287,  7263.60625   ,\n",
       "       10744.5855309 , 11130.18241901, 11442.43959517, 16870.53177966,\n",
       "       29254.82541647,  4370.16506713,  1304.8359353 ,  7148.59473789,\n",
       "       12331.51028377,  3614.22578847, 31733.76736426, 35940.35262426,\n",
       "        9187.02668054, 33226.08065818, 14637.58609596,  6292.11654193,\n",
       "        5646.99828682,  -799.88989073, 11318.0716961 ,  7204.58481228,\n",
       "        9483.43688199,  6530.30151227, 16908.02447979,  8648.779139  ,\n",
       "        5834.63910268,  8019.44411343, 10255.73347139, 33821.35422893,\n",
       "       10197.45364789, 31901.47247156, 10648.25598603,  5427.19266956,\n",
       "        3833.49569564, 30987.5608002 , 10594.48149535, 10432.50380726,\n",
       "        7221.81585641, 29906.49382961, 34957.69846353, 14658.35437921,\n",
       "        7700.43631911,   845.60706352, 16196.28942631, 15413.322909  ,\n",
       "        9638.62340607,  -633.38435327,  6442.62055776, 37717.78502451,\n",
       "       13848.24487316, 12753.03924631,  5874.40485993, 29139.41979844,\n",
       "       15122.4451837 , 37542.24888689, 31314.02803089,  6791.85913629,\n",
       "       13631.32697292,  8100.07248894, 11785.31797306,  3808.00162408,\n",
       "        5677.05691083,  6021.41557348,  8234.08661505,  3518.66357319,\n",
       "         633.49385194,  5440.69580172,  3104.09039712,  4409.93453316,\n",
       "        6380.44736919,  2094.71990845,  2196.64797569, 17264.70960779,\n",
       "       30990.7042122 ,  6990.86161159, 10683.57894742, 12709.57651684,\n",
       "        7695.4379518 ,  8893.2986461 ,  9399.35002271,  1359.91029918,\n",
       "       10366.99617973, 25714.66926734, 12486.95388392,  7013.47057115,\n",
       "       28047.19266843, 14212.13717035,  1802.07914561,  4814.96129618,\n",
       "        9233.07473301, 14409.91380528, 35577.06925315, 31963.55155232,\n",
       "       10084.71925582, 29038.43893756,  3458.9806062 ,  8480.75176348,\n",
       "        6402.07490415, 11121.49911328, 38663.74664546, 12514.83232087,\n",
       "       28135.53236304, 25783.72959114, 38153.78354018, 14728.11764505])"
      ]
     },
     "execution_count": 22,
     "metadata": {},
     "output_type": "execute_result"
    }
   ],
   "source": [
    "#Predicting on x test\n",
    "rd.predict(X_test)"
   ]
  },
  {
   "cell_type": "markdown",
   "metadata": {},
   "source": [
    "# Checking Accuracy of the model"
   ]
  },
  {
   "cell_type": "code",
   "execution_count": 23,
   "metadata": {},
   "outputs": [
    {
     "data": {
      "text/plain": [
       "0.7482187261936969"
      ]
     },
     "execution_count": 23,
     "metadata": {},
     "output_type": "execute_result"
    }
   ],
   "source": [
    "#Checking score\n",
    "rd.score(X_test, y_test)"
   ]
  },
  {
   "cell_type": "markdown",
   "metadata": {},
   "source": [
    "# Lasso Regression"
   ]
  },
  {
   "cell_type": "code",
   "execution_count": 24,
   "metadata": {},
   "outputs": [
    {
     "data": {
      "text/plain": [
       "Lasso()"
      ]
     },
     "execution_count": 24,
     "metadata": {},
     "output_type": "execute_result"
    }
   ],
   "source": [
    "#Calling regression model\n",
    "ls = Lasso()\n",
    "\n",
    "#Implementing ridge regression model on X_train & y_train data\n",
    "ls.fit(X_train, y_train)"
   ]
  },
  {
   "cell_type": "markdown",
   "metadata": {},
   "source": [
    "# Checking Accuracy of the model"
   ]
  },
  {
   "cell_type": "code",
   "execution_count": 25,
   "metadata": {},
   "outputs": [
    {
     "data": {
      "text/plain": [
       "0.7482616365589023"
      ]
     },
     "execution_count": 25,
     "metadata": {},
     "output_type": "execute_result"
    }
   ],
   "source": [
    "#Checking score\n",
    "ls.score(X_test, y_test)"
   ]
  },
  {
   "cell_type": "markdown",
   "metadata": {},
   "source": [
    "# Ridge Regression with changing alpha"
   ]
  },
  {
   "cell_type": "code",
   "execution_count": 27,
   "metadata": {},
   "outputs": [
    {
     "data": {
      "text/plain": [
       "0.7481707305264254"
      ]
     },
     "execution_count": 27,
     "metadata": {},
     "output_type": "execute_result"
    }
   ],
   "source": [
    "#Calling regression model\n",
    "rd = Ridge(alpha = 2)\n",
    "\n",
    "#Implementing ridge regression model on X_train & y_train data\n",
    "rd.fit(X_train, y_train)\n",
    "\n",
    "#Checking score\n",
    "rd.score(X_test, y_test)"
   ]
  },
  {
   "cell_type": "code",
   "execution_count": 40,
   "metadata": {},
   "outputs": [
    {
     "name": "stdout",
     "output_type": "stream",
     "text": [
      "0.7482\n",
      "0.7482\n",
      "0.7481\n",
      "0.7481\n",
      "0.748\n",
      "0.748\n",
      "0.7479\n",
      "0.7479\n",
      "0.7478\n",
      "0.7478\n",
      "0.7477\n",
      "0.7477\n",
      "0.7476\n",
      "0.7476\n",
      "0.7475\n",
      "0.7475\n",
      "0.7474\n",
      "0.7474\n",
      "0.7473\n",
      "0.7472\n"
     ]
    }
   ],
   "source": [
    "#Using various alpha values and checking accuray\n",
    "alpha = [1,2,3,4,5,6,7,8,9,10,11,12,13,14,15,16,17,18,19,20]\n",
    "\n",
    "for i in alpha:\n",
    "    rd = Ridge(alpha = i)\n",
    "    rd.fit(X_train, y_train)\n",
    "    print(rd.score(X_test, y_test).round(4))"
   ]
  },
  {
   "cell_type": "code",
   "execution_count": 49,
   "metadata": {},
   "outputs": [
    {
     "name": "stdout",
     "output_type": "stream",
     "text": [
      "0.748262\n",
      "0.748256\n",
      "0.748251\n",
      "0.748246\n",
      "0.74824\n",
      "0.748234\n",
      "0.748229\n",
      "0.748223\n",
      "0.748217\n",
      "0.74821\n",
      "0.748204\n",
      "0.748197\n",
      "0.748191\n",
      "0.748184\n",
      "0.748177\n",
      "0.74817\n",
      "0.748163\n",
      "0.748156\n",
      "0.748148\n",
      "0.748141\n"
     ]
    }
   ],
   "source": [
    "#Using various alpha values and checking accuray\n",
    "alpha = [1,2,3,4,5,6,7,8,9,10,11,12,13,14,15,16,17,18,19,20]\n",
    "\n",
    "for i in alpha:\n",
    "    ls = Lasso(alpha = i)\n",
    "    ls.fit(X_train, y_train)\n",
    "    print(ls.score(X_test, y_test).round(6))"
   ]
  },
  {
   "cell_type": "code",
   "execution_count": null,
   "metadata": {},
   "outputs": [],
   "source": []
  }
 ],
 "metadata": {
  "kernelspec": {
   "display_name": "Python 3",
   "language": "python",
   "name": "python3"
  },
  "language_info": {
   "codemirror_mode": {
    "name": "ipython",
    "version": 3
   },
   "file_extension": ".py",
   "mimetype": "text/x-python",
   "name": "python",
   "nbconvert_exporter": "python",
   "pygments_lexer": "ipython3",
   "version": "3.8.6"
  }
 },
 "nbformat": 4,
 "nbformat_minor": 4
}
