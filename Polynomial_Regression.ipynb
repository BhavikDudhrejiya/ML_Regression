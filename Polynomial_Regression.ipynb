{
 "cells": [
  {
   "cell_type": "markdown",
   "metadata": {},
   "source": [
    "# Basic Analysis of Data"
   ]
  },
  {
   "cell_type": "code",
   "execution_count": 1,
   "metadata": {},
   "outputs": [],
   "source": [
    "#Importing library\n",
    "import pandas as pd"
   ]
  },
  {
   "cell_type": "code",
   "execution_count": 2,
   "metadata": {},
   "outputs": [],
   "source": [
    "#Loading data\n",
    "data = pd.read_csv('C:\\\\Users\\\\bhavi\\\\OneDrive\\\\Desktop\\\\Data\\\\insurance.csv')"
   ]
  },
  {
   "cell_type": "code",
   "execution_count": 3,
   "metadata": {},
   "outputs": [],
   "source": [
    "#Setting full view of the data\n",
    "pd.set_option('display.max_columns', None)\n",
    "pd.set_option('display.max_rows', None)"
   ]
  },
  {
   "cell_type": "code",
   "execution_count": 4,
   "metadata": {},
   "outputs": [
    {
     "data": {
      "text/plain": [
       "(1338, 7)"
      ]
     },
     "execution_count": 4,
     "metadata": {},
     "output_type": "execute_result"
    }
   ],
   "source": [
    "#Checking shape of the data\n",
    "data.shape"
   ]
  },
  {
   "cell_type": "code",
   "execution_count": 5,
   "metadata": {},
   "outputs": [
    {
     "data": {
      "text/html": [
       "<div>\n",
       "<style scoped>\n",
       "    .dataframe tbody tr th:only-of-type {\n",
       "        vertical-align: middle;\n",
       "    }\n",
       "\n",
       "    .dataframe tbody tr th {\n",
       "        vertical-align: top;\n",
       "    }\n",
       "\n",
       "    .dataframe thead th {\n",
       "        text-align: right;\n",
       "    }\n",
       "</style>\n",
       "<table border=\"1\" class=\"dataframe\">\n",
       "  <thead>\n",
       "    <tr style=\"text-align: right;\">\n",
       "      <th></th>\n",
       "      <th>age</th>\n",
       "      <th>sex</th>\n",
       "      <th>bmi</th>\n",
       "      <th>children</th>\n",
       "      <th>smoker</th>\n",
       "      <th>region</th>\n",
       "      <th>charges</th>\n",
       "    </tr>\n",
       "  </thead>\n",
       "  <tbody>\n",
       "    <tr>\n",
       "      <th>0</th>\n",
       "      <td>19</td>\n",
       "      <td>female</td>\n",
       "      <td>27.900</td>\n",
       "      <td>0</td>\n",
       "      <td>yes</td>\n",
       "      <td>southwest</td>\n",
       "      <td>16884.92400</td>\n",
       "    </tr>\n",
       "    <tr>\n",
       "      <th>1</th>\n",
       "      <td>18</td>\n",
       "      <td>male</td>\n",
       "      <td>33.770</td>\n",
       "      <td>1</td>\n",
       "      <td>no</td>\n",
       "      <td>southeast</td>\n",
       "      <td>1725.55230</td>\n",
       "    </tr>\n",
       "    <tr>\n",
       "      <th>2</th>\n",
       "      <td>28</td>\n",
       "      <td>male</td>\n",
       "      <td>33.000</td>\n",
       "      <td>3</td>\n",
       "      <td>no</td>\n",
       "      <td>southeast</td>\n",
       "      <td>4449.46200</td>\n",
       "    </tr>\n",
       "    <tr>\n",
       "      <th>3</th>\n",
       "      <td>33</td>\n",
       "      <td>male</td>\n",
       "      <td>22.705</td>\n",
       "      <td>0</td>\n",
       "      <td>no</td>\n",
       "      <td>northwest</td>\n",
       "      <td>21984.47061</td>\n",
       "    </tr>\n",
       "    <tr>\n",
       "      <th>4</th>\n",
       "      <td>32</td>\n",
       "      <td>male</td>\n",
       "      <td>28.880</td>\n",
       "      <td>0</td>\n",
       "      <td>no</td>\n",
       "      <td>northwest</td>\n",
       "      <td>3866.85520</td>\n",
       "    </tr>\n",
       "  </tbody>\n",
       "</table>\n",
       "</div>"
      ],
      "text/plain": [
       "   age     sex     bmi  children smoker     region      charges\n",
       "0   19  female  27.900         0    yes  southwest  16884.92400\n",
       "1   18    male  33.770         1     no  southeast   1725.55230\n",
       "2   28    male  33.000         3     no  southeast   4449.46200\n",
       "3   33    male  22.705         0     no  northwest  21984.47061\n",
       "4   32    male  28.880         0     no  northwest   3866.85520"
      ]
     },
     "execution_count": 5,
     "metadata": {},
     "output_type": "execute_result"
    }
   ],
   "source": [
    "#View the data\n",
    "data.head()"
   ]
  },
  {
   "cell_type": "code",
   "execution_count": 6,
   "metadata": {},
   "outputs": [
    {
     "data": {
      "text/html": [
       "<div>\n",
       "<style scoped>\n",
       "    .dataframe tbody tr th:only-of-type {\n",
       "        vertical-align: middle;\n",
       "    }\n",
       "\n",
       "    .dataframe tbody tr th {\n",
       "        vertical-align: top;\n",
       "    }\n",
       "\n",
       "    .dataframe thead th {\n",
       "        text-align: right;\n",
       "    }\n",
       "</style>\n",
       "<table border=\"1\" class=\"dataframe\">\n",
       "  <thead>\n",
       "    <tr style=\"text-align: right;\">\n",
       "      <th></th>\n",
       "      <th>age</th>\n",
       "      <th>bmi</th>\n",
       "      <th>children</th>\n",
       "      <th>charges</th>\n",
       "    </tr>\n",
       "  </thead>\n",
       "  <tbody>\n",
       "    <tr>\n",
       "      <th>age</th>\n",
       "      <td>1.000000</td>\n",
       "      <td>0.109272</td>\n",
       "      <td>0.042469</td>\n",
       "      <td>0.299008</td>\n",
       "    </tr>\n",
       "    <tr>\n",
       "      <th>bmi</th>\n",
       "      <td>0.109272</td>\n",
       "      <td>1.000000</td>\n",
       "      <td>0.012759</td>\n",
       "      <td>0.198341</td>\n",
       "    </tr>\n",
       "    <tr>\n",
       "      <th>children</th>\n",
       "      <td>0.042469</td>\n",
       "      <td>0.012759</td>\n",
       "      <td>1.000000</td>\n",
       "      <td>0.067998</td>\n",
       "    </tr>\n",
       "    <tr>\n",
       "      <th>charges</th>\n",
       "      <td>0.299008</td>\n",
       "      <td>0.198341</td>\n",
       "      <td>0.067998</td>\n",
       "      <td>1.000000</td>\n",
       "    </tr>\n",
       "  </tbody>\n",
       "</table>\n",
       "</div>"
      ],
      "text/plain": [
       "               age       bmi  children   charges\n",
       "age       1.000000  0.109272  0.042469  0.299008\n",
       "bmi       0.109272  1.000000  0.012759  0.198341\n",
       "children  0.042469  0.012759  1.000000  0.067998\n",
       "charges   0.299008  0.198341  0.067998  1.000000"
      ]
     },
     "execution_count": 6,
     "metadata": {},
     "output_type": "execute_result"
    }
   ],
   "source": [
    "#Checking correlation\n",
    "data.corr()"
   ]
  },
  {
   "cell_type": "markdown",
   "metadata": {},
   "source": [
    "# Checking NA "
   ]
  },
  {
   "cell_type": "code",
   "execution_count": 7,
   "metadata": {},
   "outputs": [
    {
     "data": {
      "text/plain": [
       "age         0\n",
       "sex         0\n",
       "bmi         0\n",
       "children    0\n",
       "smoker      0\n",
       "region      0\n",
       "charges     0\n",
       "dtype: int64"
      ]
     },
     "execution_count": 7,
     "metadata": {},
     "output_type": "execute_result"
    }
   ],
   "source": [
    "#Checking missing values\n",
    "data.isnull().sum()"
   ]
  },
  {
   "cell_type": "markdown",
   "metadata": {},
   "source": [
    "# Creating dummy variables"
   ]
  },
  {
   "cell_type": "code",
   "execution_count": 8,
   "metadata": {},
   "outputs": [],
   "source": [
    "#Creating dummy variables\n",
    "data2 = pd.get_dummies(data)"
   ]
  },
  {
   "cell_type": "code",
   "execution_count": 9,
   "metadata": {},
   "outputs": [
    {
     "data": {
      "text/html": [
       "<div>\n",
       "<style scoped>\n",
       "    .dataframe tbody tr th:only-of-type {\n",
       "        vertical-align: middle;\n",
       "    }\n",
       "\n",
       "    .dataframe tbody tr th {\n",
       "        vertical-align: top;\n",
       "    }\n",
       "\n",
       "    .dataframe thead th {\n",
       "        text-align: right;\n",
       "    }\n",
       "</style>\n",
       "<table border=\"1\" class=\"dataframe\">\n",
       "  <thead>\n",
       "    <tr style=\"text-align: right;\">\n",
       "      <th></th>\n",
       "      <th>age</th>\n",
       "      <th>bmi</th>\n",
       "      <th>children</th>\n",
       "      <th>charges</th>\n",
       "      <th>sex_female</th>\n",
       "      <th>sex_male</th>\n",
       "      <th>smoker_no</th>\n",
       "      <th>smoker_yes</th>\n",
       "      <th>region_northeast</th>\n",
       "      <th>region_northwest</th>\n",
       "      <th>region_southeast</th>\n",
       "      <th>region_southwest</th>\n",
       "    </tr>\n",
       "  </thead>\n",
       "  <tbody>\n",
       "    <tr>\n",
       "      <th>0</th>\n",
       "      <td>19</td>\n",
       "      <td>27.900</td>\n",
       "      <td>0</td>\n",
       "      <td>16884.92400</td>\n",
       "      <td>1</td>\n",
       "      <td>0</td>\n",
       "      <td>0</td>\n",
       "      <td>1</td>\n",
       "      <td>0</td>\n",
       "      <td>0</td>\n",
       "      <td>0</td>\n",
       "      <td>1</td>\n",
       "    </tr>\n",
       "    <tr>\n",
       "      <th>1</th>\n",
       "      <td>18</td>\n",
       "      <td>33.770</td>\n",
       "      <td>1</td>\n",
       "      <td>1725.55230</td>\n",
       "      <td>0</td>\n",
       "      <td>1</td>\n",
       "      <td>1</td>\n",
       "      <td>0</td>\n",
       "      <td>0</td>\n",
       "      <td>0</td>\n",
       "      <td>1</td>\n",
       "      <td>0</td>\n",
       "    </tr>\n",
       "    <tr>\n",
       "      <th>2</th>\n",
       "      <td>28</td>\n",
       "      <td>33.000</td>\n",
       "      <td>3</td>\n",
       "      <td>4449.46200</td>\n",
       "      <td>0</td>\n",
       "      <td>1</td>\n",
       "      <td>1</td>\n",
       "      <td>0</td>\n",
       "      <td>0</td>\n",
       "      <td>0</td>\n",
       "      <td>1</td>\n",
       "      <td>0</td>\n",
       "    </tr>\n",
       "    <tr>\n",
       "      <th>3</th>\n",
       "      <td>33</td>\n",
       "      <td>22.705</td>\n",
       "      <td>0</td>\n",
       "      <td>21984.47061</td>\n",
       "      <td>0</td>\n",
       "      <td>1</td>\n",
       "      <td>1</td>\n",
       "      <td>0</td>\n",
       "      <td>0</td>\n",
       "      <td>1</td>\n",
       "      <td>0</td>\n",
       "      <td>0</td>\n",
       "    </tr>\n",
       "    <tr>\n",
       "      <th>4</th>\n",
       "      <td>32</td>\n",
       "      <td>28.880</td>\n",
       "      <td>0</td>\n",
       "      <td>3866.85520</td>\n",
       "      <td>0</td>\n",
       "      <td>1</td>\n",
       "      <td>1</td>\n",
       "      <td>0</td>\n",
       "      <td>0</td>\n",
       "      <td>1</td>\n",
       "      <td>0</td>\n",
       "      <td>0</td>\n",
       "    </tr>\n",
       "  </tbody>\n",
       "</table>\n",
       "</div>"
      ],
      "text/plain": [
       "   age     bmi  children      charges  sex_female  sex_male  smoker_no  \\\n",
       "0   19  27.900         0  16884.92400           1         0          0   \n",
       "1   18  33.770         1   1725.55230           0         1          1   \n",
       "2   28  33.000         3   4449.46200           0         1          1   \n",
       "3   33  22.705         0  21984.47061           0         1          1   \n",
       "4   32  28.880         0   3866.85520           0         1          1   \n",
       "\n",
       "   smoker_yes  region_northeast  region_northwest  region_southeast  \\\n",
       "0           1                 0                 0                 0   \n",
       "1           0                 0                 0                 1   \n",
       "2           0                 0                 0                 1   \n",
       "3           0                 0                 1                 0   \n",
       "4           0                 0                 1                 0   \n",
       "\n",
       "   region_southwest  \n",
       "0                 1  \n",
       "1                 0  \n",
       "2                 0  \n",
       "3                 0  \n",
       "4                 0  "
      ]
     },
     "execution_count": 9,
     "metadata": {},
     "output_type": "execute_result"
    }
   ],
   "source": [
    "#Checkiing dummy data\n",
    "data2.head()"
   ]
  },
  {
   "cell_type": "markdown",
   "metadata": {},
   "source": [
    "# Splitting data into X & y"
   ]
  },
  {
   "cell_type": "code",
   "execution_count": 10,
   "metadata": {},
   "outputs": [
    {
     "name": "stdout",
     "output_type": "stream",
     "text": [
      "Shape of X: (1338, 11)\n",
      "Shape of y: (1338,)\n"
     ]
    }
   ],
   "source": [
    "#Splitting data into X and y\n",
    "X = data2.drop('charges', axis = 1)\n",
    "y = data2['charges']\n",
    "\n",
    "print('Shape of X:',X.shape)\n",
    "print('Shape of y:',y.shape)"
   ]
  },
  {
   "cell_type": "markdown",
   "metadata": {},
   "source": [
    "# Splitting into train & test"
   ]
  },
  {
   "cell_type": "code",
   "execution_count": 11,
   "metadata": {},
   "outputs": [],
   "source": [
    "#Importing train and test library\n",
    "from sklearn.model_selection import train_test_split"
   ]
  },
  {
   "cell_type": "code",
   "execution_count": 12,
   "metadata": {},
   "outputs": [
    {
     "name": "stdout",
     "output_type": "stream",
     "text": [
      "Shape of X_train: (1070, 11)\n",
      "Shape of X_test: (268, 11)\n",
      "Shape of y_train: (1070,)\n",
      "Shape of y_test: (268,)\n"
     ]
    }
   ],
   "source": [
    "#Splitting data into train and test\n",
    "X_train, X_test, y_train, y_test = train_test_split(X,y,test_size = 0.2, random_state = 51)\n",
    "print('Shape of X_train:',X_train.shape)\n",
    "print('Shape of X_test:',X_test.shape)\n",
    "print('Shape of y_train:',y_train.shape)\n",
    "print('Shape of y_test:',y_test.shape)"
   ]
  },
  {
   "cell_type": "markdown",
   "metadata": {},
   "source": [
    "# Standard Scaler of the data"
   ]
  },
  {
   "cell_type": "code",
   "execution_count": 13,
   "metadata": {},
   "outputs": [],
   "source": [
    "#Importing feature scaling library\n",
    "from sklearn.preprocessing import StandardScaler"
   ]
  },
  {
   "cell_type": "code",
   "execution_count": 14,
   "metadata": {},
   "outputs": [],
   "source": [
    "#Feature Scaling\n",
    "\n",
    "#Calling the standard scaler function\n",
    "sc = StandardScaler()\n",
    "\n",
    "#Implement standard function\n",
    "sc.fit(X_train)\n",
    "X_train = sc.transform(X_train)\n",
    "X_test = sc.transform(X_test)"
   ]
  },
  {
   "cell_type": "code",
   "execution_count": 15,
   "metadata": {},
   "outputs": [
    {
     "data": {
      "text/plain": [
       "array([[-0.01679025, -1.10886921,  3.22869711, ..., -0.57663083,\n",
       "         1.62083887, -0.55647958],\n",
       "       [ 1.46855153,  1.53991862, -0.90867523, ..., -0.57663083,\n",
       "        -0.61696447,  1.79701113],\n",
       "       [-0.93628753, -0.5478814 ,  1.57374817, ..., -0.57663083,\n",
       "        -0.61696447, -0.55647958],\n",
       "       ...,\n",
       "       [-0.58263473,  0.08002838, -0.90867523, ..., -0.57663083,\n",
       "        -0.61696447, -0.55647958],\n",
       "       [-1.50213202,  0.18165062,  0.7462737 , ..., -0.57663083,\n",
       "         1.62083887, -0.55647958],\n",
       "       [ 0.54905424,  0.90870405, -0.08120077, ..., -0.57663083,\n",
       "         1.62083887, -0.55647958]])"
      ]
     },
     "execution_count": 15,
     "metadata": {},
     "output_type": "execute_result"
    }
   ],
   "source": [
    "#Viewing X_train data\n",
    "X_train"
   ]
  },
  {
   "cell_type": "markdown",
   "metadata": {},
   "source": [
    "# Polynomial Regression"
   ]
  },
  {
   "cell_type": "code",
   "execution_count": 16,
   "metadata": {},
   "outputs": [],
   "source": [
    "from sklearn.linear_model import LinearRegression\n",
    "from sklearn.preprocessing import PolynomialFeatures"
   ]
  },
  {
   "cell_type": "code",
   "execution_count": 18,
   "metadata": {},
   "outputs": [],
   "source": [
    "poly_reg = PolynomialFeatures(degree=2)\n",
    "poly_reg.fit(X_train)\n",
    "X_train_poly = poly_reg.transform(X_train)\n",
    "X_test_poly = poly_reg.transform(X_test)"
   ]
  },
  {
   "cell_type": "code",
   "execution_count": 19,
   "metadata": {},
   "outputs": [
    {
     "data": {
      "text/plain": [
       "((1070, 78), (268, 78))"
      ]
     },
     "execution_count": 19,
     "metadata": {},
     "output_type": "execute_result"
    }
   ],
   "source": [
    "X_train_poly.shape, X_test_poly.shape"
   ]
  },
  {
   "cell_type": "code",
   "execution_count": 21,
   "metadata": {},
   "outputs": [
    {
     "data": {
      "text/plain": [
       "LinearRegression()"
      ]
     },
     "execution_count": 21,
     "metadata": {},
     "output_type": "execute_result"
    }
   ],
   "source": [
    "lr = LinearRegression()\n",
    "lr.fit(X_train_poly, y_train)"
   ]
  },
  {
   "cell_type": "code",
   "execution_count": 22,
   "metadata": {},
   "outputs": [
    {
     "data": {
      "text/plain": [
       "0.8481378246793845"
      ]
     },
     "execution_count": 22,
     "metadata": {},
     "output_type": "execute_result"
    }
   ],
   "source": [
    "lr.score(X_test_poly, y_test)"
   ]
  },
  {
   "cell_type": "code",
   "execution_count": 24,
   "metadata": {},
   "outputs": [
    {
     "data": {
      "text/plain": [
       "array([10169.])"
      ]
     },
     "execution_count": 24,
     "metadata": {},
     "output_type": "execute_result"
    }
   ],
   "source": [
    "lr.predict([X_test_poly[0,:]])"
   ]
  },
  {
   "cell_type": "code",
   "execution_count": 27,
   "metadata": {},
   "outputs": [
    {
     "data": {
      "text/plain": [
       "array([10165., 41362.,  4171., 10399., 35207., 11407., 10039., 12851.,\n",
       "        7675., 11961., 10034., 12467.,  9387.,  4329.,  5751., 13431.,\n",
       "        4697.,  2315., 24594., 22850.,  3496.,  8723., 37239., 13311.,\n",
       "        7687., 17631., 12630.,  3482.,  8791., 13371.,  2214., 28615.,\n",
       "        4371.,  4451.,  9167., 10183.,  5719.,  3133., 12895.,  8278.,\n",
       "       12450.,  2715.,  5871.,  3559.,  6954., 14685., 11003., 41531.,\n",
       "        8951., 13775.,  6666., 37114.,  9263., 49169.,  6567., 33394.,\n",
       "        9639., 11799., 14266.,  5967., 10307.,  8118., 26263.,  3427.,\n",
       "        8687.,  9023., 11410.,  6100., 15483.,  7751., 31479., 16707.,\n",
       "        5407.,  4751., 15907., 12087., 15607., 41691.,  4658., 10383.,\n",
       "        5154., 14258.,  9006.,  2258.,  6023., 51647.,  4084., 11379.,\n",
       "       12935.,  6891.,  5889., 12075.,  7271.,  6263.,  8733., 26083.,\n",
       "       39258., 13519., 21487.,  9043.,  4271.,  3167., 43719.,  6904.,\n",
       "        6314.,  9767.,  6994.,  9131., 10720., 42859.,  8187.,  7902.,\n",
       "        5903.,  5594., 13842., 11213.,  4075., 15470., 16247., 38631.,\n",
       "       46271.,  7553., 56147.,  5579.,  2947., 26379.,  6047., 30228.,\n",
       "        9983.,  4283.,  2626.,  6914.,  2410.,  8101.,  5107., 26363.,\n",
       "        3527.,  4818.,  4801.,  5599., 39243.,  3118., 41227.,  3175.,\n",
       "        9772., 12831., 11666., 29719., 14894., 13815., 37842., 50267.,\n",
       "        9755., 10783.,  1482., 11558., 35355., 13151.,  4638.,  3571.,\n",
       "       44891., 27618., 17695.,  7743.,  7972., 12223., 13015., 13218.,\n",
       "       32251.,  4886.,  3426.,  4299., 12951.,  4624., 22087., 34883.,\n",
       "        7949., 47771., 11506.,  6666.,  5703.,  1626., 11282., 10114.,\n",
       "       12234.,  7169., 11831.,  8143.,  5767., 11103.,  9831., 26807.,\n",
       "        8511., 25463., 12379.,  6139.,  3599., 28199.,  4722.,  9912.,\n",
       "        7754., 30002., 40471., 12988.,  9570.,  3447., 15375., 14551.,\n",
       "        7838.,  2698.,  5371., 42263., 14087., 15451.,  4624., 24107.,\n",
       "       16267., 49803., 41303.,  7165., 12770.,  5482., 11347.,  4935.,\n",
       "        6851.,  6375.,  8888.,  4655.,  2583.,  6143.,  4603.,  3494.,\n",
       "        8395.,  3191.,  3159., 13462., 24923.,  7855.,  9223., 15907.,\n",
       "        8027.,  9856.,  7883.,  2923., 10647., 10007., 10266.,  4306.,\n",
       "       14135., 12431.,  2282.,  5710., -1885., 11594., 41623., 34519.,\n",
       "        9778., 27155.,  3815.,  4629.,  4331.,  8502., 42442.,  8791.,\n",
       "       28503., 26393., 41519., 15431.])"
      ]
     },
     "execution_count": 27,
     "metadata": {},
     "output_type": "execute_result"
    }
   ],
   "source": [
    "y_pred = lr.predict(X_test_poly)\n",
    "y_pred"
   ]
  },
  {
   "cell_type": "code",
   "execution_count": 28,
   "metadata": {},
   "outputs": [
    {
     "data": {
      "text/plain": [
       "151      7789.63500\n",
       "1146    52590.82939\n",
       "1305     2464.61880\n",
       "392      8964.06055\n",
       "123     39556.49450\n",
       "365      9778.34720\n",
       "473     20878.78443\n",
       "1151    12235.83920\n",
       "1216     5415.66120\n",
       "539     27346.04207\n",
       "178      8823.27900\n",
       "333     11658.37915\n",
       "228      7358.17565\n",
       "1147     2261.56880\n",
       "80       4441.21315\n",
       "115     30259.99556\n",
       "174      2855.43755\n",
       "399      1631.66830\n",
       "126     17081.08000\n",
       "982     19199.94400\n",
       "1131     3693.42800\n",
       "1164     7153.55390\n",
       "298     38746.35510\n",
       "1145    11289.10925\n",
       "838      6402.29135\n",
       "36      15612.19335\n",
       "1035    12094.47800\n",
       "855      1875.34400\n",
       "250     12829.45510\n",
       "812     11013.71190\n",
       "723      1263.24900\n",
       "144     20745.98910\n",
       "113      2404.73380\n",
       "439      2897.32350\n",
       "1319     7201.70085\n",
       "1013     8765.24900\n",
       "660      6435.62370\n",
       "349      1635.73365\n",
       "1237    12224.35085\n",
       "355     24603.04837\n",
       "602     11070.53500\n",
       "121      1705.62450\n",
       "291     20277.80751\n",
       "1283     1720.35370\n",
       "832      4719.73655\n",
       "1018    12495.29085\n",
       "344     10977.20630\n",
       "488     48885.13561\n",
       "1185     8603.82340\n",
       "342     13217.09450\n",
       "1287     5472.44900\n",
       "34      51194.55914\n",
       "198      9644.25250\n",
       "1241    49577.66240\n",
       "369      3481.86800\n",
       "1291    34828.65400\n",
       "637     24915.04626\n",
       "645     10141.13620\n",
       "433     12638.19500\n",
       "533     19214.70553\n",
       "197      8516.82900\n",
       "188      6775.96100\n",
       "916     21774.32215\n",
       "1292     1515.34490\n",
       "71       6799.45800\n",
       "777      7448.40395\n",
       "45      20630.28351\n",
       "63       4133.64165\n",
       "542     13887.20400\n",
       "345      6184.29940\n",
       "1007    24915.22085\n",
       "1012    36580.28216\n",
       "960      2730.10785\n",
       "169      4827.90495\n",
       "231     14001.28670\n",
       "1294    11931.12525\n",
       "1282    14283.45940\n",
       "1031    44423.80300\n",
       "1159     3989.84100\n",
       "704      8930.93455\n",
       "684      4766.02200\n",
       "552     12957.11800\n",
       "644     18806.14547\n",
       "136      1261.44200\n",
       "164      5028.14660\n",
       "901     48673.55880\n",
       "1261     3277.16100\n",
       "460     10381.47870\n",
       "390     10736.87075\n",
       "440      4738.26820\n",
       "434      4243.59005\n",
       "1107    10493.94580\n",
       "778      5934.37980\n",
       "1328    22395.74424\n",
       "1063     6548.19505\n",
       "741     18246.49550\n",
       "1218    41661.60200\n",
       "1103    11363.28320\n",
       "1314    18765.87545\n",
       "756      7985.81500\n",
       "388      3176.81590\n",
       "1296     1708.92575\n",
       "629     42983.45850\n",
       "129      6082.40500\n",
       "104      5003.85300\n",
       "372      7639.41745\n",
       "536      5972.37800\n",
       "567      7256.72310\n",
       "127      9634.53800\n",
       "14      39611.75770\n",
       "183      7419.47790\n",
       "204      7147.10500\n",
       "212      3537.70300\n",
       "965      4746.34400\n",
       "715     12146.97100\n",
       "782      9386.16130\n",
       "470      2497.03830\n",
       "768     14319.03100\n",
       "199     14901.51670\n",
       "92      30184.93670\n",
       "1122    46661.44240\n",
       "1153     5630.45785\n",
       "543     63770.42801\n",
       "1138     3704.35450\n",
       "133      1632.56445\n",
       "954     20009.63365\n",
       "671      3943.59540\n",
       "618     34439.85590\n",
       "652      8280.62270\n",
       "436      2254.79670\n",
       "15       1837.23700\n",
       "196      5649.71500\n",
       "1129     1728.89700\n",
       "1143     6338.07560\n",
       "218      3392.97680\n",
       "297     21978.67690\n",
       "226      2689.49540\n",
       "1245     5615.36900\n",
       "541      3056.38810\n",
       "61       4504.66240\n",
       "1070    39871.70430\n",
       "311      1737.37600\n",
       "615     42969.85270\n",
       "482      1622.18850\n",
       "748      8556.90700\n",
       "575     12222.89830\n",
       "1089    10577.08700\n",
       "280     22331.56680\n",
       "1322    12981.34570\n",
       "405     11396.90020\n",
       "29      38711.00000\n",
       "1240    47269.85400\n",
       "1280     8283.68070\n",
       "1116     9222.40260\n",
       "1251     1241.56500\n",
       "1332    11411.68500\n",
       "843     27533.91290\n",
       "1110    11512.40500\n",
       "1181     2850.68375\n",
       "576      1664.99960\n",
       "893     44202.65360\n",
       "949     19933.45800\n",
       "411     19594.80965\n",
       "189      4922.91590\n",
       "946      7160.09400\n",
       "1105    10338.93160\n",
       "868     13129.60345\n",
       "493     12574.04900\n",
       "1117    36124.57370\n",
       "352      3554.20300\n",
       "277      2150.46900\n",
       "699      3500.61230\n",
       "624     12129.61415\n",
       "910      2639.04290\n",
       "85      21098.55405\n",
       "886     27218.43725\n",
       "1211    23563.01618\n",
       "292     42112.23560\n",
       "18      10602.38500\n",
       "143     18157.87600\n",
       "282      4237.12655\n",
       "584      1242.81600\n",
       "1028     9850.43200\n",
       "400      9264.79700\n",
       "1275    10959.33000\n",
       "1298     5261.46945\n",
       "286      9432.92530\n",
       "597      5594.84550\n",
       "249      4040.55825\n",
       "1222     8442.66700\n",
       "936     32108.66282\n",
       "966     23967.38305\n",
       "325      6600.20595\n",
       "376     21659.93010\n",
       "970     10702.64240\n",
       "140     27375.90478\n",
       "1060     1981.58190\n",
       "827     20773.62775\n",
       "1312     4536.25900\n",
       "1076     8551.34700\n",
       "1177     6496.88600\n",
       "322     35491.64000\n",
       "958     41034.22140\n",
       "599     33471.97189\n",
       "407      8539.67100\n",
       "236      1615.76670\n",
       "343     13981.85035\n",
       "20      13228.84695\n",
       "611      6571.54400\n",
       "1316     1731.67700\n",
       "519      3857.75925\n",
       "1230    60021.39897\n",
       "27      12268.63225\n",
       "190     12557.60530\n",
       "620      3659.34600\n",
       "750     19539.24300\n",
       "962     14474.67500\n",
       "674     46200.98510\n",
       "240     38511.62830\n",
       "348      5478.03680\n",
       "515     11362.75500\n",
       "1168     4670.64000\n",
       "1098    23045.56616\n",
       "606      3558.62025\n",
       "829      6117.49450\n",
       "672      4399.73100\n",
       "913      7626.99300\n",
       "1260     4544.23480\n",
       "821      2680.94930\n",
       "608      4435.09420\n",
       "508      3044.21330\n",
       "1025     2020.17700\n",
       "119      6686.43130\n",
       "137      2045.68525\n",
       "17       2395.17155\n",
       "895     13063.88300\n",
       "156     21223.67580\n",
       "46       3393.35635\n",
       "774      7261.74100\n",
       "25      14001.13380\n",
       "24       6203.90175\n",
       "1246     9101.79800\n",
       "93       5729.00530\n",
       "464      1632.03625\n",
       "299      9249.49520\n",
       "412     14455.64405\n",
       "329      9144.56500\n",
       "817      3597.59600\n",
       "1100    16776.30405\n",
       "964     26467.09737\n",
       "487      1253.93600\n",
       "306     20177.67113\n",
       "1317     1163.46270\n",
       "458     10601.41200\n",
       "852     42111.66470\n",
       "23      37701.87680\n",
       "214      8520.02600\n",
       "885     19719.69470\n",
       "10       2721.32080\n",
       "955      3875.73410\n",
       "632      3366.66970\n",
       "215      7371.77200\n",
       "251     47305.30500\n",
       "209      6610.10970\n",
       "1250    18648.42170\n",
       "503     32548.34050\n",
       "668     45710.20785\n",
       "366     13430.26500\n",
       "Name: charges, dtype: float64"
      ]
     },
     "execution_count": 28,
     "metadata": {},
     "output_type": "execute_result"
    }
   ],
   "source": [
    "y_test"
   ]
  },
  {
   "cell_type": "code",
   "execution_count": 30,
   "metadata": {},
   "outputs": [
    {
     "name": "stdout",
     "output_type": "stream",
     "text": [
      "26406184.951883297\n",
      "5138.694868532602\n"
     ]
    }
   ],
   "source": [
    "from sklearn.metrics import mean_squared_error\n",
    "import numpy as np\n",
    "mse = mean_squared_error(y_test, y_pred)\n",
    "print(mse)\n",
    "rmse = np.sqrt(mse)\n",
    "print(rmse)"
   ]
  }
 ],
 "metadata": {
  "kernelspec": {
   "display_name": "Python 3",
   "language": "python",
   "name": "python3"
  },
  "language_info": {
   "codemirror_mode": {
    "name": "ipython",
    "version": 3
   },
   "file_extension": ".py",
   "mimetype": "text/x-python",
   "name": "python",
   "nbconvert_exporter": "python",
   "pygments_lexer": "ipython3",
   "version": "3.8.6"
  }
 },
 "nbformat": 4,
 "nbformat_minor": 4
}
